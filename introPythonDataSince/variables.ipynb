{
 "cells": [
  {
   "cell_type": "markdown",
   "metadata": {},
   "source": [
    "# python par DS - introduccion al lenguaje"
   ]
  },
  {
   "cell_type": "code",
   "execution_count": 3,
   "metadata": {},
   "outputs": [
    {
     "name": "stdout",
     "output_type": "stream",
     "text": [
      "mi nombre es Juan y mi edad es  25\n"
     ]
    }
   ],
   "source": [
    "nombre = 'Juan'\n",
    "edad = 25\n",
    "print(f'mi nombre es {nombre} y mi edad es  {edad}')"
   ]
  },
  {
   "cell_type": "markdown",
   "metadata": {},
   "source": [
    "# Miprimer función"
   ]
  },
  {
   "cell_type": "code",
   "execution_count": 4,
   "metadata": {},
   "outputs": [
    {
     "name": "stdout",
     "output_type": "stream",
     "text": [
      "hola Juan sea vienvenido\n"
     ]
    }
   ],
   "source": [
    "def saludar():\n",
    "    nombre = input('digite su nombre: ')\n",
    "    print(f'hola {nombre} sea vienvenido')\n",
    "\n",
    "saludar()"
   ]
  },
  {
   "cell_type": "markdown",
   "metadata": {},
   "source": [
    "# crear funciones con parametros\n"
   ]
  },
  {
   "cell_type": "code",
   "execution_count": 5,
   "metadata": {},
   "outputs": [
    {
     "name": "stdout",
     "output_type": "stream",
     "text": [
      "hola Juan\n"
     ]
    }
   ],
   "source": [
    "nombre = 'Juan'\n",
    "\n",
    "def inpNombre(nombre: str):\n",
    "    print(f'hola {nombre}')\n",
    "\n",
    "# llamamos la funcion y la probamos\n",
    "inpNombre(nombre)"
   ]
  },
  {
   "cell_type": "markdown",
   "metadata": {},
   "source": [
    "# condicionales\n"
   ]
  },
  {
   "cell_type": "code",
   "execution_count": 7,
   "metadata": {},
   "outputs": [
    {
     "name": "stdout",
     "output_type": "stream",
     "text": [
      "puede conducir\n"
     ]
    }
   ],
   "source": [
    "edad = 20\n",
    "\n",
    "def puede_conducir (edad: int):\n",
    "    if edad > 18:\n",
    "        print(f'puede conducir')\n",
    "    else:\n",
    "        print('no puede conducir')\n",
    "        \n",
    "puede_conducir(edad)"
   ]
  },
  {
   "cell_type": "markdown",
   "metadata": {},
   "source": [
    "# convertir datos "
   ]
  },
  {
   "cell_type": "code",
   "execution_count": 9,
   "metadata": {},
   "outputs": [
    {
     "name": "stdout",
     "output_type": "stream",
     "text": [
      "su edad es de 17 y es menor de edad\n"
     ]
    }
   ],
   "source": [
    "# se coloca int para que la entrada de datos sea un entero\n",
    "edad = int(input('Introdusca su edad: '))\n",
    "\n",
    "def inpEdad (edad: int):\n",
    "    if edad > 17:\n",
    "        print(f'su edad es de {edad} y es mayo de edad')\n",
    "    else:\n",
    "        print(f'su edad es de {edad} y es menor de edad')\n",
    "\n",
    "inpEdad(edad)"
   ]
  },
  {
   "cell_type": "markdown",
   "metadata": {},
   "source": [
    "# Listas\n"
   ]
  },
  {
   "cell_type": "code",
   "execution_count": 2,
   "metadata": {},
   "outputs": [
    {
     "data": {
      "text/plain": [
       "list"
      ]
     },
     "execution_count": 2,
     "metadata": {},
     "output_type": "execute_result"
    }
   ],
   "source": [
    "edad = [18, 15, 12, 45,50]\n",
    "\n",
    "type(edad)"
   ]
  },
  {
   "cell_type": "code",
   "execution_count": 5,
   "metadata": {},
   "outputs": [
    {
     "data": {
      "text/plain": [
       "50"
      ]
     },
     "execution_count": 5,
     "metadata": {},
     "output_type": "execute_result"
    }
   ],
   "source": [
    "# invocar las variables dentro de mis listas\n",
    "edad[0]"
   ]
  },
  {
   "cell_type": "code",
   "execution_count": 9,
   "metadata": {},
   "outputs": [
    {
     "name": "stdout",
     "output_type": "stream",
     "text": [
      "[12, 45, 50]\n",
      "[18, 15, 12]\n",
      "[18, 15]\n"
     ]
    }
   ],
   "source": [
    "# slice para sacar una porcion de la lista\n",
    "#llamar de una pocicion de la lista añ final\n",
    "print(edad[2:])\n",
    "#llamar del inicio hasta cierta posicion \n",
    "print(edad[:3])\n",
    "#llamar posiciones espesificas de la lista\n",
    "print(edad[0:2])"
   ]
  },
  {
   "cell_type": "markdown",
   "metadata": {},
   "source": [
    "# Bucles"
   ]
  },
  {
   "cell_type": "code",
   "execution_count": 10,
   "metadata": {},
   "outputs": [
    {
     "name": "stdout",
     "output_type": "stream",
     "text": [
      "18\n",
      "15\n",
      "12\n",
      "45\n",
      "50\n"
     ]
    }
   ],
   "source": [
    "edades = [18, 15, 12, 45,50]\n",
    "\n",
    "for edad in edades:\n",
    "    print(edad)"
   ]
  },
  {
   "cell_type": "markdown",
   "metadata": {},
   "source": [
    "# boleano\n"
   ]
  },
  {
   "cell_type": "code",
   "execution_count": 11,
   "metadata": {},
   "outputs": [
    {
     "data": {
      "text/plain": [
       "True"
      ]
     },
     "execution_count": 11,
     "metadata": {},
     "output_type": "execute_result"
    }
   ],
   "source": [
    "edad = 18\n",
    "edad == 18"
   ]
  },
  {
   "cell_type": "code",
   "execution_count": 12,
   "metadata": {},
   "outputs": [
    {
     "data": {
      "text/plain": [
       "True"
      ]
     },
     "execution_count": 12,
     "metadata": {},
     "output_type": "execute_result"
    }
   ],
   "source": [
    "bool(edad)"
   ]
  },
  {
   "cell_type": "code",
   "execution_count": 13,
   "metadata": {},
   "outputs": [
    {
     "data": {
      "text/plain": [
       "False"
      ]
     },
     "execution_count": 13,
     "metadata": {},
     "output_type": "execute_result"
    }
   ],
   "source": [
    "edad == str"
   ]
  },
  {
   "cell_type": "code",
   "execution_count": 22,
   "metadata": {},
   "outputs": [
    {
     "data": {
      "text/plain": [
       "True"
      ]
     },
     "execution_count": 22,
     "metadata": {},
     "output_type": "execute_result"
    }
   ],
   "source": [
    "nombre ='juan'\n",
    "\n",
    "type(nombre) == str"
   ]
  },
  {
   "cell_type": "markdown",
   "metadata": {},
   "source": [
    "# Listas con diferentes tipos de datos"
   ]
  },
  {
   "cell_type": "code",
   "execution_count": 25,
   "metadata": {},
   "outputs": [
    {
     "name": "stdout",
     "output_type": "stream",
     "text": [
      "El elemento mariana de la lista es del tipo: <class 'str'>\n",
      "El elemento 25 de la lista es del tipo: <class 'int'>\n",
      "El elemento True de la lista es del tipo: <class 'bool'>\n",
      "El elemento mexico de la lista es del tipo: <class 'str'>\n"
     ]
    }
   ],
   "source": [
    "persona = ['mariana', 25, True, 'mexico']\n",
    "for e in persona:\n",
    "    print(f'El elemento {e} de la lista es del tipo: {type(e)}')"
   ]
  },
  {
   "cell_type": "markdown",
   "metadata": {},
   "source": [
    "# Importando una biblioteca"
   ]
  },
  {
   "cell_type": "code",
   "execution_count": 35,
   "metadata": {},
   "outputs": [
    {
     "data": {
      "text/plain": [
       "2"
      ]
     },
     "execution_count": 35,
     "metadata": {},
     "output_type": "execute_result"
    }
   ],
   "source": [
    "from random import randrange, seed\n",
    "\n",
    "randrange(0, 11)"
   ]
  },
  {
   "cell_type": "code",
   "execution_count": 44,
   "metadata": {},
   "outputs": [
    {
     "name": "stdout",
     "output_type": "stream",
     "text": [
      "[3, 5, 6, 2, 3, 0]\n"
     ]
    }
   ],
   "source": [
    "from random import randrange, seed\n",
    "notas_matematicas = []\n",
    "# se usa esta funcion para mantener los datos generado\n",
    "seed(8)\n",
    "for notas in range(6):\n",
    "    notas_matematicas.append(randrange(0, 11))\n",
    "\n",
    "print(notas_matematicas)"
   ]
  }
 ],
 "metadata": {
  "kernelspec": {
   "display_name": "Python 3",
   "language": "python",
   "name": "python3"
  },
  "language_info": {
   "codemirror_mode": {
    "name": "ipython",
    "version": 3
   },
   "file_extension": ".py",
   "mimetype": "text/x-python",
   "name": "python",
   "nbconvert_exporter": "python",
   "pygments_lexer": "ipython3",
   "version": "3.11.0"
  }
 },
 "nbformat": 4,
 "nbformat_minor": 2
}
